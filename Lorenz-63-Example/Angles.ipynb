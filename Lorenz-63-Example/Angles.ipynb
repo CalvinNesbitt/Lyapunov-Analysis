{
 "cells": [
  {
   "cell_type": "markdown",
   "metadata": {},
   "source": [
    "# Angles of Lorenz 63"
   ]
  },
  {
   "cell_type": "markdown",
   "metadata": {},
   "source": [
    "In this notebook we will plot the basic facts about the angles between different CLVs of Lorenz 63"
   ]
  },
  {
   "cell_type": "markdown",
   "metadata": {},
   "source": [
    "## Utilities"
   ]
  },
  {
   "cell_type": "markdown",
   "metadata": {},
   "source": [
    "### Work will be based on raw data from the run below"
   ]
  },
  {
   "cell_type": "code",
   "execution_count": 1,
   "metadata": {},
   "outputs": [],
   "source": [
    "data_directory = 'tau0.1-steps1.1E+06KUPTSOV' # Where the data is"
   ]
  },
  {
   "cell_type": "code",
   "execution_count": 17,
   "metadata": {},
   "outputs": [],
   "source": [
    "# Imports\n",
    "\n",
    "import numpy as np\n",
    "import matplotlib.pyplot as plt\n",
    "import pickle\n",
    "from mpl_toolkits.mplot3d import Axes3D\n",
    "from matplotlib import rc # Latex for plots\n",
    "from scipy.interpolate import interp1d\n",
    "rc('text', usetex=True)\n",
    "\n",
    "from scipy.stats import gaussian_kde\n",
    "from scipy.linalg import subspace_angles"
   ]
  },
  {
   "cell_type": "markdown",
   "metadata": {},
   "source": [
    "### Class for Reading and Processing Data."
   ]
  },
  {
   "cell_type": "markdown",
   "metadata": {},
   "source": [
    "This class reads in data from a L63 Ginelli run. You specify the number of steps you want the FTLEs to be averaged over as well as how many samples you want. It processes both."
   ]
  },
  {
   "cell_type": "code",
   "execution_count": 4,
   "metadata": {},
   "outputs": [],
   "source": [
    "class DataRead: # THINK ABOUT BENEFITS OF THIS BEING READ AS PD ARRAY \n",
    "    \"\"\"Class for reading data from a L63 Lyapunov Analysis run\n",
    "    Parameter, directory, string: Directory containing data files.\n",
    "    Parameter, L, integer: L * tau is the averaging time for the FTLES. \n",
    "    Parameter, s, integer: number of times we sample the FTLEs.\n",
    "    \"\"\"\n",
    "\n",
    "    def __init__(self, dirName, L, s): # Add a load feature, as processing is slow\n",
    "        self.directory = dirName\n",
    "        \n",
    "        # FTLE\n",
    "        \n",
    "        # Reading raw FTLE Data, this corresponds to averaging time = QR time of the run\n",
    "        self.raw_FTBLE = np.load(dirName + '/Data/FTBLE.npy') # This is for L = 1, i.e. growth just over time tau\n",
    "        self.raw_FTCLE = np.load(dirName + '/Data/FTCLE.npy')\n",
    "        \n",
    "        # Processing FTLE Data, i.e longer averaging times\n",
    "        self.all_FTBLE = self.process(self.raw_FTBLE, L) # Remember FTLEs indexed by (time, LE index)\n",
    "        self.all_FTCLE = self.process(self.raw_FTCLE, L) # Of course here time is in steps of averaging time\n",
    "        \n",
    "        # Sampling FTLEs Randomly\n",
    "        self.sample_index = np.random.choice(self.all_FTBLE.shape[0], s, replace=False)\n",
    "        if (s == self.all_FTBLE.shape[0]): # In case you just sample all the indices\n",
    "            self.FTBLE = self.all_FTBLE \n",
    "            self.FTCLE = self.all_FTCLE\n",
    "        else:\n",
    "            self.FTBLE = self.all_FTBLE[self.sample_index] # DANGER! When sampled randomly like this, they're not in order\n",
    "            self.FTCLE = self.all_FTCLE[self.sample_index]\n",
    "\n",
    "#         self.CLE = np.load(dirName + '/Data/CLE.npy') # Don't really need this atm\n",
    "#         self.BLE = np.load(dirName + '/Data/BLE.npy')\n",
    "\n",
    "        # LVs\n",
    "    \n",
    "        self.raw_CLV = np.load(dirName + '/Data/CLVs.npy') # Raw CLV indexed by (time, row, column)\n",
    "        self.raw_BLV = np.load(dirName + '/Data/BLVs.npy') \n",
    "        \n",
    "        # LV at averaging timesteps. [0] index is starting LV (not stretched)\n",
    "        self.all_CLV = np.append([self.raw_CLV[0]], self.raw_CLV[L: : L], axis =0) # FTLE first average after L steps. Notice one less CLV matrix than FTLE\n",
    "        self.all_BLV = np.append([self.raw_BLV[0]], self.raw_BLV[L: : L], axis =0) # These are BLV matrices\n",
    "        \n",
    "        # Samples, these are the LVs corresponding to the samples LEs\n",
    "        if (s == self.all_FTBLE.shape[0]):\n",
    "            self.CLV = self.all_CLV\n",
    "            self.BLV = self.all_BLV\n",
    "        else:\n",
    "            self.CLV = self.all_CLV[self.sample_index] \n",
    "            self.BLV = self.all_BLV[self.sample_index] \n",
    "\n",
    "        # Solution\n",
    "        self.solution = np.load(dirName + '/Data/solution.npy')\n",
    "        \n",
    "        # Some info\n",
    "        infile = open(self.directory +'/parameters','rb')\n",
    "        self.param_dict = pickle.load(infile) # Dictionary of parameters used to generate the data\n",
    "        infile.close()\n",
    "        \n",
    "        self.avg_time = L # Averaging time\n",
    "        self.samples = s \n",
    "\n",
    "    def who(self):\n",
    "        \"Prints the parameters associated with the run.\"\n",
    "        print(f'The parameters used to generate this data were:\\n{self.param_dict}\\n')\n",
    "        print(f'Processing parameters for this data:\\n{self.processing_dict()}')\n",
    "        return\n",
    "    \n",
    "    def processing_dict(self):\n",
    "        \"Returns a dictionary with info on how the raw data was processed.\"\n",
    "        p_dict = {'Samples': self.samples,\n",
    "                 'Averaging Time': self.avg_time * self.param_dict['tau']}\n",
    "        return p_dict\n",
    "    \n",
    "    def raw_stats(self):\n",
    "        \"Returns a dictionary with summary statistics from the raw run.\"\n",
    "        ss_dict ={'FTBLE Means': np.mean(self.rawFTBLE, axis = 0),\n",
    "                  'FTCLE Means': np.mean(self.rawFTCLE, axis = 0),\n",
    "                  'CLE Check Sum': np.sum( np.mean(self.rawFTBLE, axis = 0) ),\n",
    "                  'BLE Check Sum': np.sum( np.mean(self.rawFTCLE, axis = 0) )}\n",
    "        return ss_dict\n",
    "    \n",
    "    def sample_stats(self):\n",
    "        \"Returns a dictionary with summary statistics from the sampled data.\"\n",
    "        ss_dict ={'FTBLE Means': np.mean(self.FTBLE, axis = 0),\n",
    "                  'FTCLE Means': np.mean(self.FTCLE, axis = 0),\n",
    "                  'CLE Check Sum': np.sum( np.mean(self.FTBLE, axis = 0) ),\n",
    "                  'BLE Check Sum': np.sum( np.mean(self.FTCLE, axis = 0) )}\n",
    "        return ss_dict\n",
    "    \n",
    "    def process(self, raw, L): # THIS IS SLOW\n",
    "        FTLE = [[np.mean(raw[0:L, 0]), np.mean(raw[0:L, 1]), np.mean(raw[0:L, 2])]]\n",
    "        for i in range(L, len(raw) - len(raw)%L , L):\n",
    "            # If L doesn't divide len(raw) exactly, we throw away last block less than length L\n",
    "            means = [ [np.mean(raw[i:i + L, 0]) , np.mean(raw[i:i + L, 1]) , np.mean(raw[i:i + L, 2])] ]\n",
    "            FTLE = np.append(FTLE, means, axis = 0)\n",
    "        return FTLE\n",
    "          "
   ]
  },
  {
   "cell_type": "markdown",
   "metadata": {},
   "source": [
    "## Angle Utilities"
   ]
  },
  {
   "cell_type": "code",
   "execution_count": 5,
   "metadata": {},
   "outputs": [],
   "source": [
    "# Needed for tangent vector calculation\n",
    "\n",
    "def L63(state, t, p):\n",
    "    \"\"\" ODEs defining Lorenz 63 system.\n",
    "    Parameter, state: current state.\n",
    "    Parameter, t: time.\n",
    "    Parameter, p: array, parameters for L63.\n",
    "    \"\"\"\n",
    "    [a, b, c] = p\n",
    "    x, y, z = state\n",
    "    dxdt = a * (y - x)\n",
    "    dydt = (c * x) - y - (x * z)\n",
    "    dzdt = (x * y) - (b * z)\n",
    "    dudt = np.array([dxdt, dydt, dzdt])\n",
    "    return dudt"
   ]
  },
  {
   "cell_type": "code",
   "execution_count": 6,
   "metadata": {},
   "outputs": [],
   "source": [
    "# Needed for angles between individual CLVs\n",
    "\n",
    "def unit_vector(vector):\n",
    "    \"\"\" Returns the unit vector of the vector.  \"\"\"\n",
    "    return vector / np.linalg.norm(vector)\n",
    "\n",
    "def angle_between(v1, v2):\n",
    "    \"\"\" Returns the angle in radians between vectors 'v1' and 'v2'::\n",
    "\n",
    "            >>> angle_between((1, 0, 0), (0, 1, 0))\n",
    "            1.5707963267948966\n",
    "            >>> angle_between((1, 0, 0), (1, 0, 0))\n",
    "            0.0\n",
    "            >>> angle_between((1, 0, 0), (-1, 0, 0))\n",
    "            3.141592653589793\n",
    "    \"\"\"\n",
    "    v1_u = unit_vector(v1)\n",
    "    v2_u = unit_vector(v2)\n",
    "    return np.arccos(np.clip(np.dot(v1_u, v2_u), -1.0, 1.0))"
   ]
  },
  {
   "cell_type": "markdown",
   "metadata": {},
   "source": [
    "### Defining a Class for Calculating Angles"
   ]
  },
  {
   "cell_type": "markdown",
   "metadata": {},
   "source": [
    "When you create an angle class it has everything you need in it. Be warned, they are slow to make."
   ]
  },
  {
   "cell_type": "code",
   "execution_count": 39,
   "metadata": {},
   "outputs": [],
   "source": [
    "class Angles:\n",
    "    \"\"\"Class for calculating various angles from a L63 Lyapunov Analysis run.\n",
    "    Relies on subspace_angles, angle_between and L63 functions.\n",
    "    Parameter, data, DataRead: Read in Data from a run.\n",
    "    Option, string: directory to load angles if already calculated.\n",
    "    \"\"\"\n",
    "\n",
    "    def __init__(self, data, load = 'Generate'):\n",
    "        self.directory = data.directory + '/Data/'\n",
    "        self.CLV = data.CLV\n",
    "        self.BLV = data.BLV\n",
    "        self.solution = data.solution\n",
    "        self.param_dict = data.param_dict\n",
    "        self.processing_dict = data.processing_dict()\n",
    "        self.samples = data.samples\n",
    "        if (load == 'Generate'): # These three function calls here will make object generation slow\n",
    "            self.spaces = self.spaces() \n",
    "            self.vectors = self.vectors()\n",
    "            #self.tangent = self.tangent()\n",
    "            print('Save the data')\n",
    "        else:\n",
    "            self.load(load)\n",
    "\n",
    "    def who(self):\n",
    "        \"Prints the parameters associated with the run.\"\n",
    "        print(f'The parameters used to generate this data were:\\n{self.param_dict}')\n",
    "        return\n",
    "    \n",
    "    def spaces(self):\n",
    "        \"\"\"Function for calculating angles between expanding and contracting CLV subspaces.\n",
    "        param, data: data from run.\n",
    "        \"\"\"\n",
    "        angles = np.zeros((self.samples, 2)) # You will have to think about changing this when you have more CLVs\n",
    "        for t in np.arange(self.samples):\n",
    "            angles[t, 0] = subspace_angles(self.CLV[t, :, [0]].T, self.CLV[t, :, 1:])[0] # Angle between 1 and non-expanding\n",
    "            angles[t, 1] = subspace_angles(self.CLV[t, :, :2], self.CLV[t, :, [2]].T)[0]\n",
    "        return angles\n",
    "    \n",
    "    def vectors(self):\n",
    "        \"\"\" Calculates angles between each pair of CLVs. Indexed by [time, (angle of:) (1,2), (1,3), (2,3)]\n",
    "        \"\"\"\n",
    "        kB = self.param_dict['kB']\n",
    "        CLV = self.CLV\n",
    "        CLVangles = np.zeros((self.samples, 3)) # Indexed by [time, (angle of:) (1,2), (1,3), (2,3)]\n",
    "\n",
    "        for t in np.arange(self.samples):\n",
    "            CLVangles[t, 0] = angle_between(CLV[t,:,0], CLV[t,:,1])\n",
    "            CLVangles[t, 1] = angle_between(CLV[t,:,0], CLV[t,:,2])\n",
    "            CLVangles[t, 2] = angle_between(CLV[t,:,1], CLV[t,:,2])\n",
    "        return CLVangles\n",
    "    \n",
    "#     def tangent(self): This needs redesigning\n",
    "#         \"\"\"Function for calculating CLV angle with tangent vector, in degrees.\n",
    "#         param, data: data from run.\n",
    "#         \"\"\"\n",
    "#         ctangles = np.zeros(self.param_dict['kB'])\n",
    "#         tA = int(self.param_dict['dt'] * self.param_dict['kA'])\n",
    "#         step = 0\n",
    "#         a, b, c = self.param_dict['a'], self.param_dict['b'], self.param_dict['c']\n",
    "#         p = np.array([a, b, c])\n",
    "#         for t in np.arange(self.param_dict['kB']):\n",
    "#             step = tA + (int(t * self.param_dict['tao']))\n",
    "#             state = self.solution[step]\n",
    "#             tangent = L63(state, 1, p) # THINK ABOUT WHETHER THIS IS CORRECT\n",
    "#             ctangles[t] = np.rad2deg(subspace_angles(self.CLVs[t, :, :2], np.array([tangent]).T)[0])\n",
    "#             #btangles[t] = np.rad2deg(subspace_angles(BLVs[t, :, :2], np.array([tangent]).T)[0])\n",
    "#         return ctangles\n",
    "    \n",
    "    def save(self, dirName):\n",
    "        \"\"\" Function saving object data. Can then be reloaded in future\n",
    "        Parameter, string, dirName: Where we will save the data.\n",
    "        \"\"\"\n",
    "        np.save(dirName + '/Data/angle-spaces', self.spaces)\n",
    "        np.save(dirName + '/Data/angle-vectors', self.vectors)\n",
    "        #np.save(dirName + '/Data/angle-tangent', self.tangent)\n",
    "        return\n",
    "    \n",
    "    def load(self, dirName):\n",
    "        \"\"\" Function to load object data if it exists.\n",
    "        \"\"\"\n",
    "        self.spaces = np.load(dirName + '/Data/angle-spaces.npy')\n",
    "        self.vectors = np.load(dirName + '/Data/angle-vectors.npy')\n",
    "        #self.tangent = np.load(dirName + '/Data/angle-tangent.npy')\n",
    "        return\n",
    "\n",
    "          "
   ]
  },
  {
   "cell_type": "markdown",
   "metadata": {},
   "source": [
    "### Reading Data "
   ]
  },
  {
   "cell_type": "code",
   "execution_count": 33,
   "metadata": {},
   "outputs": [
    {
     "data": {
      "text/plain": [
       "__main__.DataRead"
      ]
     },
     "execution_count": 33,
     "metadata": {},
     "output_type": "execute_result"
    }
   ],
   "source": [
    "run_data = DataRead('tau0.1-steps1.1E+06KUPTSOV', 160, 1000) # Issue with saving data changes type\n",
    "# np.save(data_directory + '/Data/Angle-Data', run_data)\n",
    "#run_data = np.load(data_directory + '/Data/Angle-Data.npy', allow_pickle = True)\n",
    "type(run_data)"
   ]
  },
  {
   "cell_type": "markdown",
   "metadata": {},
   "source": [
    "### Calculating Angles"
   ]
  },
  {
   "cell_type": "markdown",
   "metadata": {},
   "source": [
    "Make sure to save the angles after you calculate them."
   ]
  },
  {
   "cell_type": "code",
   "execution_count": 40,
   "metadata": {},
   "outputs": [
    {
     "name": "stdout",
     "output_type": "stream",
     "text": [
      "Save the data\n"
     ]
    }
   ],
   "source": [
    "# Space for calculating angles\n",
    "angle_data = Angles(run_data)"
   ]
  },
  {
   "cell_type": "code",
   "execution_count": 42,
   "metadata": {},
   "outputs": [],
   "source": [
    "angle_data.save(data_directory)"
   ]
  },
  {
   "cell_type": "code",
   "execution_count": null,
   "metadata": {},
   "outputs": [],
   "source": [
    "# Space for Saving angles\n",
    "# tao500angles.save('tao0.5-length2.4E+04')"
   ]
  },
  {
   "cell_type": "markdown",
   "metadata": {},
   "source": [
    "# Density of Angles between Subspaces"
   ]
  },
  {
   "cell_type": "markdown",
   "metadata": {},
   "source": [
    "Here we plot the density of the angle between the expanding and contracting subspaces (see Kuptsov)."
   ]
  },
  {
   "cell_type": "code",
   "execution_count": 87,
   "metadata": {},
   "outputs": [],
   "source": [
    "theta_1_data = angle_data.spaces[:, 0] # Degrees, angle between first CLV and non-expanding spaces\n",
    "theta_2_data = angle_data.spaces[:, 1] # Degrees, angle between non-contracting spaces and last CLV"
   ]
  },
  {
   "cell_type": "markdown",
   "metadata": {},
   "source": [
    "### KDE Estimator"
   ]
  },
  {
   "cell_type": "code",
   "execution_count": 98,
   "metadata": {},
   "outputs": [],
   "source": [
    "x_1 = np.linspace(theta_1_data.min(), theta_1_data.max(), 1000) # Grid we evaluate PDF on. 1000 points between 0 and 90 degrees\n",
    "x_2 = np.linspace(theta_2_data.min(), theta_2_data.max(), 1000) # Grid we evaluate PDF on. 1000 points between 0 and 90 degrees\n",
    "kde1 = gaussian_kde(theta_1_data) # KDE. Using Gaussian kernels with default bandwidth, don't know how it decided bw? \n",
    "kde2 = gaussian_kde(theta_2_data) \n",
    "pdf1 = kde1.evaluate(x_1)\n",
    "pdf2 = kde2.evaluate(x_2)"
   ]
  },
  {
   "cell_type": "markdown",
   "metadata": {},
   "source": [
    "Plotting Densities"
   ]
  },
  {
   "cell_type": "code",
   "execution_count": 131,
   "metadata": {},
   "outputs": [
    {
     "data": {
      "text/plain": [
       "<matplotlib.legend.Legend at 0x2af796473100>"
      ]
     },
     "execution_count": 131,
     "metadata": {},
     "output_type": "execute_result"
    },
    {
     "data": {
      "image/png": "[encoded data removed]",
      "text/plain": [
       "<Figure size 432x288 with 1 Axes>"
      ]
     },
     "metadata": {
      "needs_background": "light"
     },
     "output_type": "display_data"
    }
   ],
   "source": [
    "plt.plot(x_1, pdf1, label = '$\\\\theta_{(1, (2,3))}$')\n",
    "plt.plot(x_2, pdf2, label = '$\\\\theta_{(1,2) ,3))}$')\n",
    "plt.yscale('log')\n",
    "plt.legend()"
   ]
  },
  {
   "cell_type": "markdown",
   "metadata": {},
   "source": [
    "### Rate Functions"
   ]
  },
  {
   "cell_type": "markdown",
   "metadata": {},
   "source": [
    "From this you get agreement with Kuptsov that CLV 1 is sometimes in non expanding space but CLV 3 is never in the non contracting space"
   ]
  },
  {
   "cell_type": "code",
   "execution_count": 112,
   "metadata": {},
   "outputs": [
    {
     "data": {
      "image/png": "[encoded data removed]",
      "text/plain": [
       "<Figure size 432x288 with 1 Axes>"
      ]
     },
     "metadata": {
      "needs_background": "light"
     },
     "output_type": "display_data"
    }
   ],
   "source": [
    "Ltau = 16\n",
    "rate1 = - (np.log(pdf1) / Ltau)\n",
    "rate2 = - (np.log(pdf1) / Ltau)\n",
    "plt.plot(x_1, rate1, label = '$\\\\theta_1$ Rate')\n",
    "plt.plot(x_2, rate2, label = '$\\\\theta_2$ Rate')\n",
    "plt.xlabel('Angle (rad)')\n",
    "plt.ylabel('Rate')\n",
    "plt.plot(theta_1_data, np.full_like(theta_1_data, - 0.01), '.k', label = '$\\\\theta_1$ Data Points')\n",
    "plt.plot(theta_2_data, np.full_like(theta_2_data, - 0.02), '*k', label = '$\\\\theta_2$ Data Points')\n",
    "plt.legend()\n",
    "plt.show()"
   ]
  },
  {
   "cell_type": "markdown",
   "metadata": {},
   "source": [
    "# Individual Angles"
   ]
  },
  {
   "cell_type": "markdown",
   "metadata": {},
   "source": [
    "Reading data of angles between individual CLVs"
   ]
  },
  {
   "cell_type": "code",
   "execution_count": 113,
   "metadata": {},
   "outputs": [],
   "source": [
    "angles_1_2 = angle_data.vectors[:, 0] \n",
    "angles_1_3 = angle_data.vectors[:, 1] \n",
    "angles_2_3 = angle_data.vectors[:, 2] "
   ]
  },
  {
   "cell_type": "markdown",
   "metadata": {},
   "source": [
    "### KDE Estimator"
   ]
  },
  {
   "cell_type": "code",
   "execution_count": 126,
   "metadata": {},
   "outputs": [],
   "source": [
    "x_d = np.linspace(0, 3.14, 100) # Grid we evaluate PDF on. 1000 points between 0 and 180 degrees\n",
    "kde12 = gaussian_kde(angles_1_2) # KDE. Using Gaussian kernels with default bandwidth, don't know how it decided bw? \n",
    "kde13 = gaussian_kde(angles_1_3) \n",
    "kde23 = gaussian_kde(angles_2_3) \n",
    "pdf12 = kde12.evaluate(x_d)\n",
    "pdf13 = kde13.evaluate(x_d)\n",
    "pdf23 = kde23.evaluate(x_d)"
   ]
  },
  {
   "cell_type": "code",
   "execution_count": 130,
   "metadata": {},
   "outputs": [
    {
     "data": {
      "image/png": "[encoded data removed]",
      "text/plain": [
       "<Figure size 432x288 with 1 Axes>"
      ]
     },
     "metadata": {
      "needs_background": "light"
     },
     "output_type": "display_data"
    }
   ],
   "source": [
    "plt.plot(x_d, pdf12, label = '$\\\\theta_{(1,2)}$')\n",
    "plt.plot(x_d, pdf13, label = '$\\\\theta_{(1,3)}$')\n",
    "plt.plot(x_d, pdf23, label = '$\\\\theta_{(2,3)}$')\n",
    "plt.plot(angles_1_2, np.full_like(angles_1_2, - 0.1), '.k')\n",
    "plt.plot(angles_1_3, np.full_like(angles_1_3, - 0.2), '.k')\n",
    "plt.plot(angles_2_3, np.full_like(angles_2_3, - 0.3), '.k')\n",
    "plt.xlabel('Angle (rad)')\n",
    "plt.legend()\n",
    "plt.show()"
   ]
  },
  {
   "cell_type": "markdown",
   "metadata": {},
   "source": [
    "From the above we see CLV 1 and CLV 2 are sometimes tangent, in general almost uniform distribution of angles between them.\n",
    "\n",
    "CLV 1 and 3 are never tangent, they're largely perpendicular although angle does fluctuate.\n",
    "\n",
    "CLV 2 and 3 are alsor never tangent although they have a larger range of angles between them."
   ]
  },
  {
   "cell_type": "markdown",
   "metadata": {},
   "source": [
    "### Rates"
   ]
  },
  {
   "cell_type": "code",
   "execution_count": 156,
   "metadata": {},
   "outputs": [
    {
     "name": "stdout",
     "output_type": "stream",
     "text": [
      "y Axis small\n"
     ]
    },
    {
     "data": {
      "image/png": "[encoded data removed]",
      "text/plain": [
       "<Figure size 432x288 with 1 Axes>"
      ]
     },
     "metadata": {
      "needs_background": "light"
     },
     "output_type": "display_data"
    },
    {
     "data": {
      "image/png": "[encoded data removed]",
      "text/plain": [
       "<Figure size 432x288 with 1 Axes>"
      ]
     },
     "metadata": {
      "needs_background": "light"
     },
     "output_type": "display_data"
    },
    {
     "data": {
      "image/png": "[encoded data removed]",
      "text/plain": [
       "<Figure size 432x288 with 1 Axes>"
      ]
     },
     "metadata": {
      "needs_background": "light"
     },
     "output_type": "display_data"
    },
    {
     "data": {
      "image/png": "[encoded data removed]",
      "text/plain": [
       "<Figure size 432x288 with 1 Axes>"
      ]
     },
     "metadata": {
      "needs_background": "light"
     },
     "output_type": "display_data"
    }
   ],
   "source": [
    "rate12 = - (np.log(pdf12) / Ltau)\n",
    "rate13 = - (np.log(pdf13) / Ltau)\n",
    "rate23 = - (np.log(pdf23) / Ltau)\n",
    "plt.title('Rate $\\\\theta_{(1,2)}$')\n",
    "plt.plot(x_d, rate12)\n",
    "print('y Axis small')\n",
    "plt.figure()\n",
    "plt.title('Rate $\\\\theta_{(1,3)}$')\n",
    "plt.plot(x_d, rate13)\n",
    "plt.plot(x_d, -(x_d - 1.5)**3)\n",
    "plt.figure()\n",
    "plt.title('Rate $\\\\theta_{(2,3)}$')\n",
    "plt.plot(x_d, rate23)\n",
    "plt.figure()\n",
    "plt.plot(x_d, rate12, label = '$\\\\theta_{(1,2)}$')\n",
    "plt.plot(x_d, rate13, label = '$\\\\theta_{(1,3)}$')\n",
    "plt.plot(x_d, rate23, label = '$\\\\theta_{(2,3)}$')\n",
    "plt.title('Comparison')\n",
    "plt.legend()\n",
    "plt.show()"
   ]
  },
  {
   "cell_type": "markdown",
   "metadata": {},
   "source": [
    "### Conclusions"
   ]
  },
  {
   "cell_type": "markdown",
   "metadata": {},
   "source": [
    "In summary, expanding direction always isolated from the contracting one, but not the neutral one. \n",
    "\n",
    "The contracting direction is always isolated from both neutral and expanding directions. "
   ]
  },
  {
   "cell_type": "code",
   "execution_count": null,
   "metadata": {},
   "outputs": [],
   "source": []
  }
 ],
 "metadata": {
  "kernelspec": {
   "display_name": "Python3 (personal)",
   "language": "python",
   "name": "python3_personal"
  },
  "language_info": {
   "codemirror_mode": {
    "name": "ipython",
    "version": 3
   },
   "file_extension": ".py",
   "mimetype": "text/x-python",
   "name": "python",
   "nbconvert_exporter": "python",
   "pygments_lexer": "ipython3",
   "version": "3.8.1"
  }
 },
 "nbformat": 4,
 "nbformat_minor": 2
}
