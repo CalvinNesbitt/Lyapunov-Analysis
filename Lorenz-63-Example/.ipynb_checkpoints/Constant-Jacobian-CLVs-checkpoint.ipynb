{
 "cells": [
  {
   "cell_type": "code",
   "execution_count": 13,
   "metadata": {},
   "outputs": [],
   "source": [
    "# Script for Computing the CLVs of a map with constant Jacobian (using Ginelli Algorithm)\n",
    "import numpy as np\n",
    "import matplotlib.pyplot as plt \n",
    "from scipy.integrate import odeint\n",
    "from scipy.linalg import expm"
   ]
  },
  {
   "cell_type": "code",
   "execution_count": 14,
   "metadata": {},
   "outputs": [],
   "source": [
    "# Setting Up Problem"
   ]
  },
  {
   "cell_type": "code",
   "execution_count": 15,
   "metadata": {},
   "outputs": [],
   "source": [
    "# Parameters for the Tangent linear equation \n",
    "J = np.array([[1, -2, 0], [0, -1, 0], [0, 2, -3]]) # Jacobian\n",
    "M0 = np.identity(3) # Take identity matrix as initial condition for matrix equation"
   ]
  },
  {
   "cell_type": "code",
   "execution_count": 16,
   "metadata": {},
   "outputs": [],
   "source": [
    "# Numerical solution to TLE Matrix equation \n",
    "\n",
    "def vectorfield(v, t, J):\n",
    "    \"\"\" Defines the right hand side of the tangent linear equation\n",
    "    parameter: v: vector of state variables e.g. solution to tle.\n",
    "    parameter: t: integer, time.\n",
    "    parameter: J: Jacobian matrix definining tle.\n",
    "    \"\"\"\n",
    "    dvdt = np.matmul(J, v)\n",
    "    return dvdt\n",
    "\n",
    "# Numerically solved Fundamental matrix at time t\n",
    "def numFM(time, J, M0):\n",
    "    \"\"\" Returns the fundamental matrix at time t. Note it also solves at intermediate steps.\n",
    "    param: time: integer, time we want solution at i.e. M(t) = M0exp(Jt)\n",
    "    param: J: array, jacobian of tle.\n",
    "    param: M0: array, initial conditions for solution of tle.\n",
    "    \"\"\"\n",
    "    # Solving TLE Matrix equation Numerically\n",
    "    t = np.linspace(0, time) # Time steps we're solving at numerically\n",
    "    v1s = odeint(vectorfield, M0[:, 0], t, args=(J,)) # Gives time series of solution to v' = Jv\n",
    "    v2s = odeint(vectorfield, M0[:, 1], t, args=(J,)) # Note that solution at time t is row at time t\n",
    "    v3s = odeint(vectorfield, M0[:, 2], t, args=(J,)) # ICs are columns of M\n",
    "    FMseries = np.zeros((3, 3, t.shape[0])) # Time series of fundamental matrix. Indexed as (row, column, time)\n",
    "    FMseries[:, 0, :] = np.transpose(v1s)\n",
    "    FMseries[:, 1, :] = np.transpose(v2s)\n",
    "    FMseries[:, 2, :] = np.transpose(v3s)\n",
    "    FM = FMseries[:, :, t.shape[0] - 1] # Fundamental matrix at final time \n",
    "    return FM"
   ]
  },
  {
   "cell_type": "code",
   "execution_count": 17,
   "metadata": {},
   "outputs": [],
   "source": [
    "# Calculating the propagator"
   ]
  },
  {
   "cell_type": "code",
   "execution_count": 18,
   "metadata": {},
   "outputs": [],
   "source": [
    "def numprop(t1, t2, J, M0):\n",
    "    \"\"\" Propagator when fundamental matrix for TLE is obtained numerically.\n",
    "    param: t1, integer, starting time. Fv(t1) = v(t2)\n",
    "    param: t2, integer, ending time. Fv(t1) = v(t2)\n",
    "    param: J, array, jacobian defining TLE v' = Jv\n",
    "    param: M0, array, initial condition for TLE\n",
    "    \"\"\"\n",
    "    FMt1 = numFM(t1, J, M0) # Fundamental matrix at t1\n",
    "    FMt2 = numFM(t2, J, M0) # Fundamental matrix at t2\n",
    "    F = np.matmul(FMt2, np.linalg.inv(FMt1))\n",
    "    return F"
   ]
  },
  {
   "cell_type": "code",
   "execution_count": 19,
   "metadata": {},
   "outputs": [],
   "source": [
    "k = 5 # Number of timesteps, propagator pushes forward e.g. F(t, t + k) is the propagator we will use from here on.\n",
    "F = numprop(0, k, J, M0) # Propagator, care will be needed when this is not constant."
   ]
  },
  {
   "cell_type": "code",
   "execution_count": 20,
   "metadata": {},
   "outputs": [],
   "source": [
    "# Implementing Ginelli Algorithm"
   ]
  },
  {
   "cell_type": "code",
   "execution_count": 21,
   "metadata": {},
   "outputs": [],
   "source": [
    "# Step 1: Getting the BLVs\n",
    "\n",
    "timeA = 100 # How long we do Bennetin steps for. Controls convergence of BLVs.\n",
    "\n",
    "# Bennetin Stepping\n",
    "\n",
    "oldM = M0 #Initialising oldQ\n",
    "for i in range(0, timeA):\n",
    "    M = np.matmul(F, oldM) # Pushing dynamics forward\n",
    "    Q, R = np.linalg.qr(M) # Performing QR decomposition\n",
    "    oldM = Q\n",
    "    #if i in range(timeA - 8, timeA): # Print statement to check convergence\n",
    "        #print(f'After {i} steps.\\n')\n",
    "        #print(f'Q is: \\n\\n {Q}\\n\\n')\n",
    "        #print(f'R is: \\n\\n {R}\\n') # In case you want to check R's also"
   ]
  },
  {
   "cell_type": "code",
   "execution_count": 22,
   "metadata": {},
   "outputs": [],
   "source": [
    "# Step 2: More Benettin steps\n",
    "# Store both BLVs and R's.\n",
    "\n",
    "timeB = 10 # Length of this controls where we want CLVs. \n",
    "\n",
    "Qs = np.zeros((3, 3, timeB)) # Array to store BLV matrices. Indexed via (row, column, time)\n",
    "Rs = np.zeros((3, 3, timeB)) # Array to stor R matrices\n",
    "\n",
    "oldM = Q #Initialising\n",
    "for i in range(0, timeB):\n",
    "    M = np.matmul(F, oldM) # Pushing dynamics forward\n",
    "    Q, R = np.linalg.qr(M) # Performing QR decomposition\n",
    "    Qs[:,:, i], Rs[:, :, i] = Q, R\n",
    "    oldM = Q"
   ]
  },
  {
   "cell_type": "code",
   "execution_count": 23,
   "metadata": {},
   "outputs": [],
   "source": [
    "# Step 3: More Benettin steps\n",
    "# Now we stores R's only. \n",
    "\n",
    "timeC = 100 #Length of this step controls convergence of CLVs\n",
    "Rs2 = np.zeros((3, 3, timeC)) # Array to store R matrices\n",
    "\n",
    "oldM = Qs[:,:, timeB - 1] #Initialising oldM\n",
    "for i in range(0, timeC):\n",
    "    M = np.matmul(F, oldM) # Pushing dynamics forward\n",
    "    Q, R = np.linalg.qr(M) # Performing QR decomposition\n",
    "    Rs2[:, :, i] =  R\n",
    "    oldM = Q"
   ]
  },
  {
   "cell_type": "code",
   "execution_count": 26,
   "metadata": {},
   "outputs": [
    {
     "name": "stdout",
     "output_type": "stream",
     "text": [
      "Lyapunov exponents are [-1.00000002  1.          3.00003661]\n",
      "\n",
      "\n",
      "A- matrix is\n",
      "\n",
      "[[ 1.00000000e+00 -5.77350243e-01  2.21567606e-16]\n",
      " [ 0.00000000e+00  8.16496599e-01 -7.07106775e-01]\n",
      " [ 0.00000000e+00  0.00000000e+00  7.07106787e-01]]\n",
      "\n",
      "\n",
      "Kuptsov matrix is\n",
      "\n",
      "[[1.         0.57735027 0.        ]\n",
      " [0.         0.81649658 0.70710678]\n",
      " [0.         0.         0.70710678]]\n",
      "\n",
      "\n",
      "Difference is\n",
      "\n",
      "[[ 0.00000000e+00  1.15470051e+00 -2.21567606e-16]\n",
      " [ 0.00000000e+00 -1.82563805e-08  1.41421356e+00]\n",
      " [ 0.00000000e+00  0.00000000e+00 -5.90208460e-09]]\n",
      "\n",
      "\n"
     ]
    }
   ],
   "source": [
    "# Step 4: Time to go back, converging to A- matrix\n",
    "\n",
    "# Initialise an upper triangular matrix\n",
    "A = 3 * np.triu(M0)\n",
    "A[0,1] =1\n",
    "\n",
    "# We will evolve upper triangular matrix backward to timeB using the stored R's from Step 3\n",
    "# This should converge to 'A-' of QR decomposition of CLVs \"Gamma = phi^- A-\"\n",
    "\n",
    "oldA = A\n",
    "for i in range(0, timeC):\n",
    "    \n",
    "    # Pushing A- backwards with R's\n",
    "    Rinv = np.linalg.inv(Rs2[:, :, timeC - i - 1])\n",
    "    newA = np.matmul(Rinv, oldA)\n",
    "    oldA = newA\n",
    "    \n",
    "    # Normalises A's to prevent overflow\n",
    "    norms = np.linalg.norm(oldA, axis=0, ord=2) # L2 of column norms\n",
    "    #norms = np.array([oldA[0, 0], oldA[1, 1], oldA[2, 2]]) # Keeping diaognal elements equal to 1\n",
    "    oldA = oldA/norms \n",
    "    \n",
    "    # Checking convergence\n",
    "    #if i in range(timeC - 10, timeC):\n",
    "        #print(f'A({timeC - i - 1})\\n{oldA})\\n\\n')\n",
    "\n",
    "print(f'Lyapunov exponents are {np.log(norms)/k}\\n\\n') #L.E.'s\n",
    "\n",
    "Aminus = oldA\n",
    "\n",
    "# Kuptsov solution\n",
    "a, b, c = np.sqrt(1/3), np.sqrt(2/3), np.sqrt(1/2)\n",
    "kuptsovA = np.array([[1, a, 0], [0, b, c], [0, 0, c]])\n",
    "\n",
    "print(f'A- matrix is\\n\\n{Aminus}\\n\\n')\n",
    "print(f'Kuptsov matrix is\\n\\n{kuptsovA}\\n\\n')\n",
    "print(f'Difference is\\n\\n{kuptsovA - Aminus}\\n\\n')"
   ]
  },
  {
   "cell_type": "code",
   "execution_count": 29,
   "metadata": {},
   "outputs": [
    {
     "name": "stdout",
     "output_type": "stream",
     "text": [
      "CLVs(4)\n",
      "[[ 1.00000000e+00 -5.77350243e-01  2.21567606e-16]\n",
      " [ 0.00000000e+00 -5.77350287e-01  1.66533454e-16]\n",
      " [ 0.00000000e+00 -5.77350277e-01  1.00000000e+00]])\n",
      "\n",
      "\n",
      "CLVs(3)\n",
      "[[ 1.00000000e+00 -5.77350243e-01  2.21567606e-16]\n",
      " [ 0.00000000e+00 -5.77350287e-01  1.66533454e-16]\n",
      " [ 0.00000000e+00 -5.77350277e-01  1.00000000e+00]])\n",
      "\n",
      "\n",
      "CLVs(2)\n",
      "[[ 1.00000000e+00 -5.77350243e-01  2.21567606e-16]\n",
      " [ 0.00000000e+00 -5.77350287e-01  1.66533454e-16]\n",
      " [ 0.00000000e+00 -5.77350277e-01  1.00000000e+00]])\n",
      "\n",
      "\n",
      "CLVs(1)\n",
      "[[ 1.00000000e+00 -5.77350243e-01  2.21567606e-16]\n",
      " [ 0.00000000e+00 -5.77350287e-01  1.66533454e-16]\n",
      " [ 0.00000000e+00 -5.77350277e-01  1.00000000e+00]])\n",
      "\n",
      "\n",
      "CLVs(0)\n",
      "[[ 1.00000000e+00 -5.77350243e-01  2.21567606e-16]\n",
      " [ 0.00000000e+00 -5.77350287e-01  1.66533454e-16]\n",
      " [ 0.00000000e+00 -5.77350277e-01  1.00000000e+00]])\n",
      "\n",
      "\n"
     ]
    }
   ],
   "source": [
    "# Step 5: Keep going back, finding CLVs\n",
    "\n",
    "CLVs = np.zeros((3, 3, timeB)) # Array to store CLVs. Indexed via (row, column, time)\n",
    "\n",
    "oldA = Aminus\n",
    "\n",
    "for i in range(0, timeB):\n",
    "    \n",
    "    # Pushing A- backwards with R's\n",
    "    Rinv = np.linalg.inv(Rs[:, :, timeB - i - 1])\n",
    "    newA = np.matmul(Rinv, oldA)\n",
    "    \n",
    "    # Normalise A-'s to prevent overflow\n",
    "    norms = np.linalg.norm(newA, axis=0, ord=2) # L2 of column norms\n",
    "    #norms = np.array([oldA[0, 0], oldA[1, 1], oldA[2, 2]]) # Keeping diaognal elements equal to 1\n",
    "    newA = newA/norms \n",
    "    \n",
    "    # Calculate CLV, using A- and BLV\n",
    "    BLV = Qs[:,:, timeB - i - 1]\n",
    "    CLVs[:, :, timeB - i - 1] = np.matmul(BLV, newA)\n",
    "    \n",
    "    oldA = newA\n",
    "    \n",
    "    # Checking final steps\n",
    "    if i in range(timeB - 5, timeB):\n",
    "        print(f'CLVs({timeB - i - 1})\\n{CLVs[:, :, timeB - i - 1]})\\n\\n')\n",
    "\n"
   ]
  },
  {
   "cell_type": "code",
   "execution_count": null,
   "metadata": {},
   "outputs": [],
   "source": []
  }
 ],
 "metadata": {
  "kernelspec": {
   "display_name": "Python 3",
   "language": "python",
   "name": "python3"
  },
  "language_info": {
   "codemirror_mode": {
    "name": "ipython",
    "version": 3
   },
   "file_extension": ".py",
   "mimetype": "text/x-python",
   "name": "python",
   "nbconvert_exporter": "python",
   "pygments_lexer": "ipython3",
   "version": "3.6.8"
  }
 },
 "nbformat": 4,
 "nbformat_minor": 2
}
