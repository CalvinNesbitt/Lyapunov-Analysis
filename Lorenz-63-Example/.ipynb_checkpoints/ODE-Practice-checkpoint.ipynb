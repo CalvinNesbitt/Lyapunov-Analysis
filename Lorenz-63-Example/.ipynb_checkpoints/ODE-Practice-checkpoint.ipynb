{
 "cells": [
  {
   "cell_type": "code",
   "execution_count": null,
   "metadata": {},
   "outputs": [],
   "source": [
    "# Practiciing with ODEint\n",
    "# Exercises from https://apmonitor.com/pdc/index.php/Main/SolveDifferentialEquations\n",
    "\n",
    "import numpy as np\n",
    "import matplotlib.pyplot as plt\n",
    "from scipy.integrate import odeint"
   ]
  },
  {
   "cell_type": "code",
   "execution_count": null,
   "metadata": {},
   "outputs": [],
   "source": [
    "# Exercise 1\n",
    "\n",
    "# function that returns dy/dt\n",
    "def model(y,t):\n",
    "    dydt = 1 - y\n",
    "    return dydt\n",
    "\n",
    "y0 = 0 # Initial condtion\n",
    "t = np.linspace(0, 5) # Time points\n",
    "\n",
    "# Sovling the ODE\n",
    "y = odeint(model, y0, t)\n",
    "\n",
    "# Plotting Solution\n",
    "plt.plot(t, y,linewidth=2)\n",
    "plt.xlabel('time')\n",
    "plt.ylabel('y(t)')\n",
    "plt.show()\n"
   ]
  },
  {
   "cell_type": "code",
   "execution_count": null,
   "metadata": {},
   "outputs": [],
   "source": [
    "# Exercise 2\n",
    "\n",
    "# function that returns dy/dt\n",
    "def model(y,t):\n",
    "    dydt = ((2 * np.heaviside(t - 10, 1)) - y)/5\n",
    "    return dydt\n",
    "\n",
    "y0 = 1 # Initial condtion\n",
    "t = np.linspace(0, 40) # Time points\n",
    "\n",
    "# Sovling the ODE\n",
    "y = odeint(model, y0, t)\n",
    "\n",
    "# Plotting Solution\n",
    "plt.plot(t, y,linewidth=2)\n",
    "plt.xlabel('time')\n",
    "plt.ylabel('y(t)')\n",
    "plt.show(1)"
   ]
  },
  {
   "cell_type": "code",
   "execution_count": 35,
   "metadata": {},
   "outputs": [
    {
     "name": "stdout",
     "output_type": "stream",
     "text": [
      "0\n"
     ]
    },
    {
     "data": {
      "image/png": "[encoded data removed]",
      "text/plain": [
       "<Figure size 432x288 with 3 Axes>"
      ]
     },
     "metadata": {
      "needs_background": "light"
     },
     "output_type": "display_data"
    }
   ],
   "source": [
    "# Exercise 3\n",
    "\n",
    "# Definition\n",
    "\n",
    "def modelx(x, t):\n",
    "    dxdt = 3 * np.exp(-t)\n",
    "    return dxdt\n",
    "\n",
    "def modely(y, t):\n",
    "    dydt = 3 - y\n",
    "    return dydt\n",
    "\n",
    "# Initial Conditions\n",
    "x0, y0 = 0, 0\n",
    "\n",
    "# Time\n",
    "t = np.linspace(0, 200)\n",
    "\n",
    "# Sovling ODEs\n",
    "x, y = odeint(modelx, x0, t), odeint(modely, y0, t)\n",
    "difference = x - y \n",
    "\n",
    "print(y0)\n",
    "# Plotting solutions\n",
    "fig, [ax1, ax2, ax3] = plt.subplots(1, 3)\n",
    "ax1.plot(t, x, label = 'x(t)')\n",
    "ax2.plot(t, y, label = 'y(t)')\n",
    "ax3.plot(t, difference)\n",
    "ax1.set_xlabel('t')\n",
    "ax2.set_xlabel('t')\n",
    "\n",
    "fig.show()"
   ]
  },
  {
   "cell_type": "code",
   "execution_count": null,
   "metadata": {},
   "outputs": [],
   "source": []
  }
 ],
 "metadata": {
  "kernelspec": {
   "display_name": "Python 3",
   "language": "python",
   "name": "python3"
  },
  "language_info": {
   "codemirror_mode": {
    "name": "ipython",
    "version": 3
   },
   "file_extension": ".py",
   "mimetype": "text/x-python",
   "name": "python",
   "nbconvert_exporter": "python",
   "pygments_lexer": "ipython3",
   "version": "3.6.8"
  }
 },
 "nbformat": 4,
 "nbformat_minor": 2
}
