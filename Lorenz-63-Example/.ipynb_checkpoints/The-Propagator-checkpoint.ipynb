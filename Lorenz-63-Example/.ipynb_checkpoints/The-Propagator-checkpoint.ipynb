{
 "cells": [
  {
   "cell_type": "code",
   "execution_count": 46,
   "metadata": {},
   "outputs": [],
   "source": [
    "# Notebook to help understand the propagator\n",
    "# Conclusions: have code working to find fundamental matrix. Seems to work best using exponential solution.\n",
    "# Errors in numerical solution for fundamental matrix grow quickly.\n",
    "# Next step: Look at froyland paper. \n",
    "\n",
    "import numpy as np\n",
    "import matplotlib.pyplot as plt\n",
    "from scipy.integrate import odeint\n",
    "from scipy.linalg import expm\n"
   ]
  },
  {
   "cell_type": "code",
   "execution_count": 47,
   "metadata": {},
   "outputs": [],
   "source": [
    "# Example calulation from Kuptsov. Solving TLE Matrix equation when Jacobian is constant\n",
    "# We will compare exponential matrix function to an odeint solution\n",
    "# If the jacobian is invertible, we will have a well defined fundamental solution matrix.\n",
    "# Initial condition M0 should n orthogonal vectors e.g. identity\n",
    "# In the below we have assumed J is constant. You will need to think how to proceed should it be time dependent.\n"
   ]
  },
  {
   "cell_type": "code",
   "execution_count": 48,
   "metadata": {},
   "outputs": [],
   "source": [
    "# Parameters for the Tangent linear equation \n",
    "J = np.array([[1, -2, 0], [0, -1, 0], [0, 2, -3]]) # Jacobian\n",
    "M0 = np.identity(3) # Take identity matrix as initial condition for matrix equation"
   ]
  },
  {
   "cell_type": "code",
   "execution_count": 49,
   "metadata": {},
   "outputs": [],
   "source": [
    "# Solution to TLE Matrix equation using scipy exponential function\n",
    "\n",
    "def expFM(t, J, M0):\n",
    "    \"\"\"Calculates the fundamental matrix for the tangent linear equation.\n",
    "    param: t: integer, time we want solution at i.e. M(t) = M0exp(Jt)\n",
    "    param: J: array, jacobian of tle.\n",
    "    param: M0: array, initial conditions for solution of tle.\n",
    "    \"\"\"\n",
    "    expJ = expm(J * t) # This only works as J is constant\n",
    "    Mt = np.matmul(M0, expJ) # Solution at time t\n",
    "    return Mt\n"
   ]
  },
  {
   "cell_type": "code",
   "execution_count": 50,
   "metadata": {},
   "outputs": [],
   "source": [
    "# Numerical solution to TLE Matrix equation \n",
    "# Seems least accurate\n",
    "\n",
    "# Tangent Linear Equation\n",
    "def vectorfield(v, t, J):\n",
    "    \"\"\" Defines the right hand side of the tangent linear equation\n",
    "    parameter: v: vector of state variables e.g. solution to tle.\n",
    "    parameter: t: integer, time.\n",
    "    parameter: J: Jacobian matrix definining tle.\n",
    "    \"\"\"\n",
    "    dvdt = np.matmul(J, v)\n",
    "    return dvdt\n",
    "\n",
    "# Numerically solved Fundamental matrix at time t\n",
    "def numFM(time, J, M0):\n",
    "    \"\"\" Returns the fundamental matrix at time t. Note it also solves at intermediate steps.\n",
    "    param: time: integer, time we want solution at i.e. M(t) = M0exp(Jt)\n",
    "    param: J: array, jacobian of tle.\n",
    "    param: M0: array, initial conditions for solution of tle.\n",
    "    \"\"\"\n",
    "    # Solving TLE Matrix equation Numerically\n",
    "    t = np.linspace(0, time) # Time steps we're solving at numerically\n",
    "    v1s = odeint(vectorfield, M0[:, 0], t, args=(J,)) # Gives time series of solution to v' = Jv\n",
    "    v2s = odeint(vectorfield, M0[:, 1], t, args=(J,)) # Note that solution at time t is row at time t\n",
    "    v3s = odeint(vectorfield, M0[:, 2], t, args=(J,)) # ICs are columns of M\n",
    "    FMseries = np.zeros((3, 3, t.shape[0])) # Time series of fundamental matrix. Indexed as (row, column, time)\n",
    "    FMseries[:, 0, :] = np.transpose(v1s)\n",
    "    FMseries[:, 1, :] = np.transpose(v2s)\n",
    "    FMseries[:, 2, :] = np.transpose(v3s)\n",
    "    FM = FMseries[:, :, t.shape[0] - 1] # Fundamental matrix at final time \n",
    "    return FM\n"
   ]
  },
  {
   "cell_type": "code",
   "execution_count": 51,
   "metadata": {},
   "outputs": [
    {
     "name": "stdout",
     "output_type": "stream",
     "text": [
      "At time 80:\n",
      "\n",
      "The numerical solution is \n",
      " [[ 5.54063078e+34 -5.54062811e+34  0.00000000e+00]\n",
      " [ 0.00000000e+00  1.80485359e-35  0.00000000e+00]\n",
      " [ 0.00000000e+00  2.67367834e-11 -2.28755277e-14]].\n",
      "\n",
      "The scipy exponential solution is \n",
      " [[ 5.54062238e+034 -5.54062238e+034  0.00000000e+000]\n",
      " [ 0.00000000e+000  1.80485139e-035  0.00000000e+000]\n",
      " [ 0.00000000e+000  1.80485139e-035  5.87928270e-105]]. \n",
      "\n",
      "Difference between numerical solution and exponential solution is \n",
      " [[-8.39628411e+28  5.72263120e+28  0.00000000e+00]\n",
      " [ 0.00000000e+00 -2.20616149e-41  0.00000000e+00]\n",
      " [ 0.00000000e+00 -2.67367834e-11  2.28755277e-14]]\n",
      "\n",
      "The percentage difference being:\n",
      " [[ 1.51540450e-04  1.03284989e-04             nan]\n",
      " [            nan  1.22235077e-04             nan]\n",
      " [            nan  1.48138420e+26 -3.89087052e+92]]\n"
     ]
    },
    {
     "name": "stderr",
     "output_type": "stream",
     "text": [
      "/apps/jupyterhub/2019-04-29/miniconda/lib/python3.6/site-packages/ipykernel_launcher.py:10: RuntimeWarning: invalid value encountered in true_divide\n",
      "  # Remove the CWD from sys.path while we load stuff.\n"
     ]
    }
   ],
   "source": [
    "# Comparing solutions for the fundamental matrix\n",
    "\n",
    "time = 80\n",
    "esol = expFM(time, J, M0) # Exponential solution\n",
    "nsol = numFM(time, J, M0) # Numerical solution\n",
    "print(f'At time {time}:\\n')\n",
    "print(f'The numerical solution is \\n {nsol}.\\n')\n",
    "print(f'The scipy exponential solution is \\n {esol}. \\n')\n",
    "print(f'Difference between numerical solution and exponential solution is \\n {esol - nsol}\\n')\n",
    "print(f'The percentage difference being:\\n {((nsol - esol)/esol) * 100}') # Not much point looking at this as no.s so small\n"
   ]
  },
  {
   "cell_type": "code",
   "execution_count": 52,
   "metadata": {},
   "outputs": [],
   "source": [
    "# Calculating the propagator"
   ]
  },
  {
   "cell_type": "code",
   "execution_count": 53,
   "metadata": {},
   "outputs": [],
   "source": [
    "# Propagator from Kuptsov\n",
    "\n",
    "def prop(t):\n",
    "    \"\"\" Propagator from Kuptsov paper.\n",
    "    param: t, integer, time steps pushed forward\n",
    "    \"\"\"\n",
    "    r1 = np.array([np.exp(t), np.exp(-t) * (1 - np.exp(2 * t)), 0])\n",
    "    r2 = np.array([0, np.exp(-t), 0])\n",
    "    r3 = np.array([0, np.exp(-3*t) * (np.exp(2 * t) - 1), np.exp(-3 * t)])\n",
    "    F = np.array([r1, r2, r3])\n",
    "    return F\n"
   ]
  },
  {
   "cell_type": "code",
   "execution_count": 54,
   "metadata": {},
   "outputs": [],
   "source": [
    "# Propagator using numerical solution for fundamental matrix\n",
    "\n",
    "def numprop(t1, t2, J, M0):\n",
    "    \"\"\" Propagator when fundamental matrix for TLE is obtained numerically.\n",
    "    param: t1, integer, starting time. Fv(t1) = v(t2)\n",
    "    param: t2, integer, ending time. Fv(t1) = v(t2)\n",
    "    param: J, array, jacobian defining TLE v' = Jv\n",
    "    param: M0, array, initial condition for TLE\n",
    "    \"\"\"\n",
    "    FMt1 = numFM(t1, J, M0) # Fundamental matrix at t1\n",
    "    FMt2 = numFM(t2, J, M0) # Fundamental matrix at t2\n",
    "    F = np.matmul(FMt2, np.linalg.inv(FMt1))\n",
    "    return F\n"
   ]
  },
  {
   "cell_type": "code",
   "execution_count": 55,
   "metadata": {},
   "outputs": [],
   "source": [
    "#Propagator using scipy exponential solution to fundamental matrix\n",
    "\n",
    "def expprop(t1, t2, J, M0): # Will only work for constant jacobian\n",
    "    \"\"\" Propagator when fundamental matrix for TLE is obtained via scipy exponential function.\n",
    "    param: t1, integer, starting time. Fv(t1) = v(t2)\n",
    "    param: t2, integer, ending time. Fv(t1) = v(t2)\n",
    "    param: J, array, jacobian defining TLE v' = Jv\n",
    "    param: M0, array, initial condition for TLE\n",
    "    \"\"\"\n",
    "    FMt1 = expFM(t1, J, M0) # Fundamental matrix at t1\n",
    "    FMt2 = expFM(t2, J, M0) # Fundamental matrix at t2\n",
    "    F = np.matmul(FMt2, np.linalg.inv(FMt1))\n",
    "    return F\n"
   ]
  },
  {
   "cell_type": "code",
   "execution_count": 56,
   "metadata": {},
   "outputs": [
    {
     "name": "stdout",
     "output_type": "stream",
     "text": [
      "Numerical propagator \n",
      " [[ 1.48413172e+02 -1.48406423e+02  0.00000000e+00]\n",
      " [ 0.00000000e+00  6.73794705e-03  0.00000000e+00]\n",
      " [ 0.00000000e+00  6.73764109e-03  3.05846329e-07]]\n",
      "\n",
      "Exponential propagator \n",
      " [[ 1.48413159e+02 -1.48406421e+02  0.00000000e+00]\n",
      " [ 0.00000000e+00  6.73794700e-03  0.00000000e+00]\n",
      " [ 0.00000000e+00  6.73764110e-03  3.05902321e-07]]\n",
      "\n",
      "Kuptsov propagator \n",
      " [[ 1.48413159e+02 -1.48406421e+02  0.00000000e+00]\n",
      " [ 0.00000000e+00  6.73794700e-03  0.00000000e+00]\n",
      " [ 0.00000000e+00  6.73764110e-03  3.05902321e-07]]\n",
      "\n"
     ]
    }
   ],
   "source": [
    "# Comparing Propagators\n",
    "# From eyeballing. Numerical propagator performs worse than exponential. \n",
    "# Both seem much more sensitive to t1 than k.  \n",
    "\n",
    "t1 = 0 # Time we're pushing forward from e.g. v(t1 + k) = v(t1)\n",
    "k = 5 # How many timesteps we're pushing forward\n",
    "\n",
    "fnum = numprop(t1, t1 + k, J, M0) # Odeint propagator\n",
    "fexp = expprop(t1, t1 + k, J, M0) # Scipy exponential function propagator\n",
    "actual = prop(k)\n",
    "print(f'Numerical propagator \\n {fnum}\\n')\n",
    "print(f'Exponential propagator \\n {fexp}\\n')\n",
    "print(f'Kuptsov propagator \\n {actual}\\n')"
   ]
  },
  {
   "cell_type": "code",
   "execution_count": 57,
   "metadata": {},
   "outputs": [],
   "source": [
    "# Calculating BLVS"
   ]
  },
  {
   "cell_type": "code",
   "execution_count": 65,
   "metadata": {},
   "outputs": [
    {
     "name": "stdout",
     "output_type": "stream",
     "text": [
      "After 10 steps.\n",
      "\n",
      "Q is: \n",
      "\n",
      " [[ 1.          0.          0.        ]\n",
      " [ 0.         -0.70710678 -0.70710678]\n",
      " [ 0.         -0.70710678  0.70710678]]\n",
      "\n",
      "R is: \n",
      "\n",
      " [[1.48413159e+02 1.04939187e+02 1.04939187e+02]\n",
      " [0.00000000e+00 6.73794700e-03 6.73764110e-03]\n",
      " [0.00000000e+00 0.00000000e+00 3.05902321e-07]]\n"
     ]
    }
   ],
   "source": [
    "# Using numerical Propagator\n",
    "#BIG question. Do we really need propagator? Why not push dynamics forward with ODEint in general case.\n",
    "\n",
    "# Parameters\n",
    "k = 5 # Number of timesteps, propagator pushes forward. Note for this example it should be constant\n",
    "timeA = 10 # Number of times we evolve dynamics with propagator\n",
    "IC = M0 # Initial condition, M0 is identity. Should be orthogonal\n",
    "\n",
    "F = expprop(0, k, J, M0) # Odeint propagator\n",
    "\n",
    "# Bennetin Stepping\n",
    "\n",
    "oldM = IC #Initialising oldQ\n",
    "for i in range(0, timeA):\n",
    "    #print(f'Time is {i}:\\n')\n",
    "    M = np.matmul(F, oldM) # Pushing dynamics forward\n",
    "    #print(f'newM{M}\\n =\\n\\n F{F} \\n*\\n\\n oldM{oldM}\\n')\n",
    "    Q, R = np.linalg.qr(M) # Performing QR decomposition\n",
    "    oldM = Q\n",
    "    #print(f'M{M} \\n= Q{Q}\\n R{R}\\n')\n",
    "    \n",
    "print(f'After {timeA} steps.\\n\\nQ is: \\n\\n {Q}\\n\\nR is: \\n\\n {R}') \n",
    "\n",
    "# This matches result in Kuptsov paper. Columns of Q are the BLVs\n"
   ]
  },
  {
   "cell_type": "code",
   "execution_count": 75,
   "metadata": {},
   "outputs": [
    {
     "name": "stdout",
     "output_type": "stream",
     "text": [
      "[[-1.         -0.         -0.        ]\n",
      " [-0.          0.70710678  0.70710678]\n",
      " [-0.          0.70710678 -0.70710678]]\n"
     ]
    }
   ],
   "source": [
    "posQ = -1 * Q\n",
    "posR = -1 * Q\n",
    "\n",
    "\n",
    "print(posQ)"
   ]
  },
  {
   "cell_type": "code",
   "execution_count": null,
   "metadata": {},
   "outputs": [],
   "source": [
    "# Finding CLVs - Using Ginelli algorithm\n"
   ]
  },
  {
   "cell_type": "code",
   "execution_count": 81,
   "metadata": {},
   "outputs": [
    {
     "name": "stdout",
     "output_type": "stream",
     "text": [
      "[[-1.         -0.         -0.        ]\n",
      " [-0.          0.70710678  0.70710678]\n",
      " [-0.          0.70710678 -0.70710678]]\n",
      "[[ 1.          0.          0.        ]\n",
      " [ 0.         -0.70710678 -0.70710678]\n",
      " [ 0.         -0.70710678  0.70710678]]\n"
     ]
    }
   ],
   "source": [
    "# We are confident that the BLVs have converged\n",
    "# We must now continue Bennetin stepping, storing the Q's and R's along the way\n",
    "\n",
    "# Parameters\n",
    "timeB = 2\n",
    "Qs = np.zeros((3, 3, timeB)) # Array to store Q matrices. Indexed via (row, column, time)\n",
    "Rs = np.zeros((3, 3, timeB)) # Array to stor R matrices\n",
    "\n",
    "oldM = Q #Initialising oldQ\n",
    "\n",
    "# Length of this loop determines number of points we want CLVs at.\n",
    "\n",
    "for i in range(0, timeB):\n",
    "    #print(f'Time is {i}:\\n')\n",
    "    M = np.matmul(F, oldM) # Pushing dynamics forward\n",
    "    #print(f'newM{M}\\n =\\n\\n F{F} \\n*\\n\\n oldM{oldM}\\n')\n",
    "    Q, R = np.linalg.qr(M) # Performing QR decomposition\n",
    "    Qs[:,:, i], Rs[:, :, i] = Q, R\n",
    "    oldM = Q\n",
    "    #print(f'M{M} \\n= Q{Q}\\n\\n R{R}\\n\\n')\n",
    "    #print(f'storedQ is\\n\\n{Qs[:,:, i] }\\n\\nshould be\\n\\n{Q}\\n\\n') # Testing storage is correct\n"
   ]
  },
  {
   "cell_type": "code",
   "execution_count": 77,
   "metadata": {},
   "outputs": [],
   "source": [
    "#Now we continue stepping, but only store the R's\n",
    "\n",
    "# Parameters\n",
    "timeC = 1000\n",
    "Rs2 = np.zeros((3, 3, timeC)) # Array to stor R matrices\n",
    "\n",
    "oldM = Qs[:,:, timeB - 1] #Initialising oldM\n",
    "\n",
    "# Length of this loop determines number of points we want CLVs at.\n",
    "\n",
    "for i in range(0, timeC):\n",
    "    #print(f'Time is {i}:\\n')\n",
    "    M = np.matmul(F, oldM) # Pushing dynamics forward\n",
    "    #print(f'newM\\n{M}\\n\\n =\\n\\n F{F} \\n*\\n\\n oldM{oldM}\\n')\n",
    "    Q, R = np.linalg.qr(M) # Performing QR decomposition\n",
    "    Rs2[:, :, i] =  R\n",
    "    oldM = Q\n",
    "    #print(f'M{M} \\n= Q{Q}\\n\\n R{R}\\n\\n')\n",
    "    #print(f'storedQ is\\n\\n{Qs[:,:, i] }\\n\\nshould be\\n\\n{Q}\\n\\n') # Testing storage is correct\n"
   ]
  },
  {
   "cell_type": "code",
   "execution_count": 78,
   "metadata": {},
   "outputs": [],
   "source": [
    "# Next we initialise an upper triangular matrix. \n",
    "A = 3 * np.triu(M0)\n",
    "A[0,1] = 303\n"
   ]
  },
  {
   "cell_type": "code",
   "execution_count": 79,
   "metadata": {},
   "outputs": [
    {
     "name": "stdout",
     "output_type": "stream",
     "text": [
      "Lyapunov exponents are [-1.  1.  3.]\n",
      "\n",
      "\n",
      "A- matrix is\n",
      "\n",
      "[[ 1.00000000e+00 -5.77350269e-01 -2.19438949e-16]\n",
      " [ 0.00000000e+00  8.16496581e-01 -7.07106781e-01]\n",
      " [ 0.00000000e+00  0.00000000e+00  7.07106781e-01]]\n",
      "\n",
      "\n",
      "Kuptsov matrix is\n",
      "\n",
      "[[1.         0.57735027 0.        ]\n",
      " [0.         0.81649658 0.70710678]\n",
      " [0.         0.         0.70710678]]\n",
      "\n",
      "\n",
      "Difference is\n",
      "\n",
      "[[ 0.00000000e+00  1.15470054e+00  2.19438949e-16]\n",
      " [ 0.00000000e+00  2.22044605e-16  1.41421356e+00]\n",
      " [ 0.00000000e+00  0.00000000e+00 -2.22044605e-16]]\n",
      "\n",
      "\n"
     ]
    }
   ],
   "source": [
    "# We will evolve it backward to timeB using the stored R's\n",
    "# This should converge to R of QR decomposition of CLVs\n",
    "\n",
    "oldA = A\n",
    "for i in range(0, timeC):\n",
    "    norms = np.linalg.norm(oldA, axis=0, ord=2) # L2 of column norms\n",
    "    #norms = np.array([oldA[0, 0], oldA[1, 1], oldA[2, 2]]) # Keeping diaognal elements equal to 1\n",
    "    oldA = oldA/norms # Prevents overflow\n",
    "    Aminus = oldA\n",
    "    #if i in range(timeC - 10, timeC):\n",
    "        #print(f'A({timeC - i - 1})\\n{oldA})\\n\\n')\n",
    "    Rinv = np.linalg.inv(Rs2[:, :, timeC - i - 1])\n",
    "    newA = np.matmul(Rinv, oldA)\n",
    "    oldA = newA\n",
    "    \n",
    "print(f'Lyapunov exponents are {np.log(norms)/k}\\n\\n') #L.E.'s\n",
    "\n",
    "# Kuptsov solution\n",
    "a, b, c = np.sqrt(1/3), np.sqrt(2/3), np.sqrt(1/2)\n",
    "kuptsovA = np.array([[1, a, 0], [0, b, c], [0, 0, c]])\n",
    "\n",
    "print(f'A- matrix is\\n\\n{Aminus}\\n\\n')\n",
    "print(f'Kuptsov matrix is\\n\\n{kuptsovA}\\n\\n')\n",
    "print(f'Difference is\\n\\n{kuptsovA - Aminus}\\n\\n')"
   ]
  },
  {
   "cell_type": "code",
   "execution_count": null,
   "metadata": {},
   "outputs": [],
   "source": [
    "# Now we use "
   ]
  },
  {
   "cell_type": "code",
   "execution_count": null,
   "metadata": {},
   "outputs": [],
   "source": []
  }
 ],
 "metadata": {
  "kernelspec": {
   "display_name": "Python 3",
   "language": "python",
   "name": "python3"
  },
  "language_info": {
   "codemirror_mode": {
    "name": "ipython",
    "version": 3
   },
   "file_extension": ".py",
   "mimetype": "text/x-python",
   "name": "python",
   "nbconvert_exporter": "python",
   "pygments_lexer": "ipython3",
   "version": "3.6.8"
  }
 },
 "nbformat": 4,
 "nbformat_minor": 2
}
